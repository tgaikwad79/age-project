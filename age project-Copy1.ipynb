{
 "cells": [
  {
   "cell_type": "code",
   "execution_count": 11,
   "id": "1e7a04d0-dbe2-4b65-bdb1-2a8d45c646ab",
   "metadata": {},
   "outputs": [
    {
     "name": "stdin",
     "output_type": "stream",
     "text": [
      "What's your age?  10\n"
     ]
    },
    {
     "name": "stdout",
     "output_type": "stream",
     "text": [
      "tushar You lived for:\n",
      "120 Months\n",
      "520 Weeks\n",
      "3650 Days\n",
      "87600 Hours\n",
      "5256000 Minutes\n",
      "315360000 Seconds\n"
     ]
    }
   ],
   "source": [
    "class SurvivalDurationCalculator:\n",
    "    def __init__(self, age):\n",
    "        self.age = 10\n",
    "\n",
    "    def calculate_all_durations(self):\n",
    "        months = self.age * 12\n",
    "        weeks = self.age * 52\n",
    "        days = self.age * 365\n",
    "        hours = self.age * 365 * 24\n",
    "        minutes = self.age * 365 * 24 * 60\n",
    "        seconds = self.age * 365 * 24 * 60 * 60\n",
    "\n",
    "        return {\n",
    "            \"Months\": months,\n",
    "            \"Weeks\": weeks,\n",
    "            \"Days\": days,\n",
    "            \"Hours\": hours,\n",
    "            \"Minutes\": minutes,\n",
    "            \"Seconds\": seconds\n",
    "        }\n",
    "\n",
    "def main():\n",
    "    try:\n",
    "        # Take user input for age\n",
    "        age = int(input(\"What's your age? \"))\n",
    "        calculator = SurvivalDurationCalculator(age)\n",
    "\n",
    "        # Calculate all durations\n",
    "        durations = calculator.calculate_all_durations()\n",
    "\n",
    "        # Display all durations\n",
    "        print(\"tushar You lived for:\")\n",
    "        for unit, duration in durations.items():\n",
    "            print(f\"{duration} {unit}\")\n",
    "    except ValueError:\n",
    "        print(\"Invalid input. Please enter a valid age.\")\n",
    "\n",
    "# Run the program\n",
    "if __name__ == \"__main__\":\n",
    "    main()"
   ]
  },
  {
   "cell_type": "code",
   "execution_count": null,
   "id": "c33308dd-6408-4309-b97f-9ad6999cfcb7",
   "metadata": {},
   "outputs": [],
   "source": []
  },
  {
   "cell_type": "code",
   "execution_count": null,
   "id": "3207f312-e536-475d-a3cf-25c7792a245a",
   "metadata": {},
   "outputs": [],
   "source": []
  },
  {
   "cell_type": "code",
   "execution_count": null,
   "id": "5275f8d6-6fa1-48b1-96b2-9d8652979362",
   "metadata": {},
   "outputs": [],
   "source": []
  }
 ],
 "metadata": {
  "kernelspec": {
   "display_name": "Python 3 (ipykernel)",
   "language": "python",
   "name": "python3"
  },
  "language_info": {
   "codemirror_mode": {
    "name": "ipython",
    "version": 3
   },
   "file_extension": ".py",
   "mimetype": "text/x-python",
   "name": "python",
   "nbconvert_exporter": "python",
   "pygments_lexer": "ipython3",
   "version": "3.12.4"
  }
 },
 "nbformat": 4,
 "nbformat_minor": 5
}
